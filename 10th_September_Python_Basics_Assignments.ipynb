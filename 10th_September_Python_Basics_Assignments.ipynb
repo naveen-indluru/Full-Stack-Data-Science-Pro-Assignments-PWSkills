{
 "cells": [
  {
   "cell_type": "markdown",
   "metadata": {},
   "source": [
    "## **Python Basics Variable**"
   ]
  },
  {
   "cell_type": "markdown",
   "metadata": {},
   "source": [
    "### 1. Declare two variables, `x` and `y`, and assign them integer values. Swap the values of these variables without using any temporary variable."
   ]
  },
  {
   "cell_type": "code",
   "execution_count": 1,
   "metadata": {},
   "outputs": [
    {
     "name": "stdout",
     "output_type": "stream",
     "text": [
      "Before x: 7 and y: 9\n",
      "After x: 9 and y: 7\n"
     ]
    }
   ],
   "source": [
    "# assigning value to variable 'x'\n",
    "x = 7\n",
    "\n",
    "# assigning value to variable 'y'\n",
    "y = 9\n",
    "\n",
    "# printing values before swapping\n",
    "print(f\"Before x: {x} and y: {y}\")\n",
    "\n",
    "# swapping the values\n",
    "x,y = y, x\n",
    "\n",
    "# display values after swapping\n",
    "print(f\"After x: {x} and y: {y}\")"
   ]
  },
  {
   "cell_type": "markdown",
   "metadata": {},
   "source": [
    "### 2. Create a program that calculates the area of a rectangle. Take the length and width as inputs from the user and store them in variables. Calculate and display the area."
   ]
  },
  {
   "cell_type": "code",
   "execution_count": 2,
   "metadata": {},
   "outputs": [
    {
     "name": "stdin",
     "output_type": "stream",
     "text": [
      "Enter the length of the rectangle :  7\n",
      "Enter the width of the rectangle :  9\n"
     ]
    },
    {
     "name": "stdout",
     "output_type": "stream",
     "text": [
      "Area of rectangle with length : 7.0 and width : 9.0 is 63.0 sq unit.\n"
     ]
    }
   ],
   "source": [
    "# taking length as a input from user in float datatype as length can be in decimals too.\n",
    "length = float(input(\"Enter the length of the rectangle : \"))\n",
    "\n",
    "# taking width as a input from user in float datatype as length can be in decimals too.\n",
    "width = float(input(\"Enter the width of the rectangle : \"))\n",
    "\n",
    "# calculating the area of rectangle by taking product of length and width\n",
    "area = length*width\n",
    "\n",
    "# display the result (area of rectangle)\n",
    "print(f\"Area of rectangle with length : {length} and width : {width} is {area} sq unit.\")"
   ]
  },
  {
   "cell_type": "markdown",
   "metadata": {},
   "source": [
    "### 3. Write a Python program that converts temperatures from Celsius to Fahrenheit. Take the temperature in Celsius as input, store it in a variable, convert it to Fahrenheit, and display the result."
   ]
  },
  {
   "cell_type": "code",
   "execution_count": 3,
   "metadata": {},
   "outputs": [
    {
     "name": "stdin",
     "output_type": "stream",
     "text": [
      "Enter the temperature in Celsius:  70\n"
     ]
    },
    {
     "name": "stdout",
     "output_type": "stream",
     "text": [
      "Temperature in Fahrenheit: 158.0\n"
     ]
    }
   ],
   "source": [
    "# taking celsius value from user\n",
    "celsius = float(input(\"Enter the temperature in Celsius: \"))\n",
    "\n",
    "# converting the celcius into fahrenheit\n",
    "fahrenheit = (celsius * 9/5) + 32\n",
    "\n",
    "# display the result\n",
    "print(\"Temperature in Fahrenheit:\", fahrenheit)\n"
   ]
  },
  {
   "cell_type": "markdown",
   "metadata": {},
   "source": [
    "## **String based questions**"
   ]
  },
  {
   "cell_type": "markdown",
   "metadata": {},
   "source": [
    "### 1. Write a Python program that takes a string as input and prints the length of the string"
   ]
  },
  {
   "cell_type": "code",
   "execution_count": 4,
   "metadata": {},
   "outputs": [
    {
     "name": "stdin",
     "output_type": "stream",
     "text": [
      "Enter a string:  Naveen\n"
     ]
    },
    {
     "name": "stdout",
     "output_type": "stream",
     "text": [
      "Length of the entered string is  6\n"
     ]
    }
   ],
   "source": [
    "# take string as input from user\n",
    "input_string = input(\"Enter a string: \")\n",
    "\n",
    "# calculate the length of entered string\n",
    "string_length = len(input_string)\n",
    "\n",
    "# display the length of the string\n",
    "print(\"Length of the entered string is \", string_length)"
   ]
  },
  {
   "cell_type": "markdown",
   "metadata": {},
   "source": [
    "### 2. Create a program that takes a sentence from the user and counts the number of vowels (a, e, i, o, u) in the string."
   ]
  },
  {
   "cell_type": "code",
   "execution_count": 5,
   "metadata": {},
   "outputs": [
    {
     "name": "stdin",
     "output_type": "stream",
     "text": [
      "Enter a string :  Naveen\n"
     ]
    },
    {
     "name": "stdout",
     "output_type": "stream",
     "text": [
      "There are 3 vowel(s) in entered string 'Naveen'.\n"
     ]
    }
   ],
   "source": [
    "# taking string input from user to count vowels\n",
    "input_string = input(\"Enter a string : \")\n",
    "\n",
    "# vowles string (characters needs to get counted from input string)\n",
    "vowels_string = \"aeiou\"\n",
    "\n",
    "# variable to store the count of vowles occured in user entered string\n",
    "count = 0\n",
    "\n",
    "for chr in input_string:\n",
    "    chr_lowercase = chr.lower()\n",
    "\n",
    "    if chr_lowercase in vowels_string:\n",
    "        count = count + 1\n",
    "\n",
    "# display the vowels count\n",
    "print(f\"There are {count} vowel(s) in entered string '{input_string}'.\")\n"
   ]
  },
  {
   "cell_type": "markdown",
   "metadata": {},
   "source": [
    "### 3. Given a string, reverse the order of characters using string slicing and print the reversed string."
   ]
  },
  {
   "cell_type": "code",
   "execution_count": 6,
   "metadata": {},
   "outputs": [
    {
     "name": "stdin",
     "output_type": "stream",
     "text": [
      "Enter a string to reverse:  Naveen\n"
     ]
    },
    {
     "name": "stdout",
     "output_type": "stream",
     "text": [
      "Reversed string: neevaN\n"
     ]
    }
   ],
   "source": [
    "# taking input from user\n",
    "input_string = input(\"Enter a string to reverse: \")\n",
    "\n",
    "# reversing the string using slicing i.e. first param is starting index , second is ending and last is for steps (using -1 will start the steps from backward and empty values for first and second param will consider whole string)\n",
    "reversed_string = input_string[::-1]\n",
    "\n",
    "# display the reversed string\n",
    "print(\"Reversed string:\", reversed_string)"
   ]
  },
  {
   "cell_type": "markdown",
   "metadata": {},
   "source": [
    "### 4. Write a program that takes a string as input and checks if it is a palindrome (reads the same forwards and backwards)."
   ]
  },
  {
   "cell_type": "code",
   "execution_count": 7,
   "metadata": {},
   "outputs": [
    {
     "name": "stdin",
     "output_type": "stream",
     "text": [
      "Enter a string to check for palindrome:  madam\n"
     ]
    },
    {
     "name": "stdout",
     "output_type": "stream",
     "text": [
      "String 'madam' is a palindrome!\n"
     ]
    }
   ],
   "source": [
    "# taking input from user\n",
    "input_string = input(\"Enter a string to check for palindrome: \")\n",
    "\n",
    "# removing the spaces and converting to lowercase string\n",
    "processed_string = input_string.replace(\" \", \"\").lower()\n",
    "\n",
    "# checking if the reverse of processed string is same as regular processed string\n",
    "if processed_string == processed_string[::-1]:\n",
    "    print(f\"String '{input_string}' is a palindrome!\")\n",
    "else:\n",
    "    print(f\"String '{input_string}' is not a palindrome.\")"
   ]
  },
  {
   "cell_type": "markdown",
   "metadata": {},
   "source": [
    "### 5. Create a program that takes a string as input and removes all the spaces from it. Print the modified string without spaces."
   ]
  },
  {
   "cell_type": "code",
   "execution_count": 8,
   "metadata": {},
   "outputs": [
    {
     "name": "stdin",
     "output_type": "stream",
     "text": [
      "Enter a string with spaces:  Naveen Reddy Indluru\n"
     ]
    },
    {
     "name": "stdout",
     "output_type": "stream",
     "text": [
      "String without spaces: NaveenReddyIndluru\n"
     ]
    }
   ],
   "source": [
    "# taking input from user\n",
    "input_string = input(\"Enter a string with spaces: \")\n",
    "\n",
    "# replacing the spaces with empty string in a sentance\n",
    "no_spaces_string = input_string.replace(\" \", \"\")\n",
    "\n",
    "# display the modified string\n",
    "print(\"String without spaces:\", no_spaces_string)"
   ]
  }
 ],
 "metadata": {
  "kernelspec": {
   "display_name": "Python 3 (ipykernel)",
   "language": "python",
   "name": "python3"
  },
  "language_info": {
   "codemirror_mode": {
    "name": "ipython",
    "version": 3
   },
   "file_extension": ".py",
   "mimetype": "text/x-python",
   "name": "python",
   "nbconvert_exporter": "python",
   "pygments_lexer": "ipython3",
   "version": "3.12.4"
  }
 },
 "nbformat": 4,
 "nbformat_minor": 4
}
